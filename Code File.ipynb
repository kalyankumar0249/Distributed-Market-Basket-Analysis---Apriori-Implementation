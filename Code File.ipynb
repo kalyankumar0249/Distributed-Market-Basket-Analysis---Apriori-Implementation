{
  "nbformat": 4,
  "nbformat_minor": 0,
  "metadata": {
    "colab": {
      "name": "Project1.ipynb",
      "provenance": [],
      "collapsed_sections": []
    },
    "kernelspec": {
      "name": "python3",
      "display_name": "Python 3"
    }
  },
  "cells": [
    {
      "cell_type": "code",
      "metadata": {
        "id": "qCraptYhfZWg",
        "colab_type": "code",
        "colab": {
          "base_uri": "https://localhost:8080/",
          "height": 51
        },
        "outputId": "8a48344d-3a04-494c-d09e-b29b65557ad8"
      },
      "source": [
        "#This cell imports the required pyspark module\n",
        "import sys\n",
        "!pip install pyspark \n",
        "from pyspark import SparkContext, SparkConf\n",
        "\n",
        "sc = SparkContext(\"local\",\"Project1\")"
      ],
      "execution_count": 1,
      "outputs": [
        {
          "output_type": "stream",
          "text": [
            "Requirement already satisfied: pyspark in /usr/local/lib/python3.6/dist-packages (3.0.1)\n",
            "Requirement already satisfied: py4j==0.10.9 in /usr/local/lib/python3.6/dist-packages (from pyspark) (0.10.9)\n"
          ],
          "name": "stdout"
        }
      ]
    },
    {
      "cell_type": "code",
      "metadata": {
        "id": "T3OSS7bGd9Ov",
        "colab_type": "code",
        "colab": {
          "base_uri": "https://localhost:8080/",
          "height": 34
        },
        "outputId": "8fda2fdf-9c1d-4157-cac9-57bde4a1c669"
      },
      "source": [
        "#This should be used only when running this on google colab\n",
        "from google.colab import drive\n",
        "drive.mount('/content/gdrive')"
      ],
      "execution_count": 2,
      "outputs": [
        {
          "output_type": "stream",
          "text": [
            "Drive already mounted at /content/gdrive; to attempt to forcibly remount, call drive.mount(\"/content/gdrive\", force_remount=True).\n"
          ],
          "name": "stdout"
        }
      ]
    },
    {
      "cell_type": "code",
      "metadata": {
        "id": "qw1P7IiGePyP",
        "colab_type": "code",
        "colab": {}
      },
      "source": [
        "#import the input file. I have just considered just a small portion of the file as system has very less resources. You can use the main input file path\n",
        "file1 = '/content/gdrive/My Drive/CS5683/browsing_test.txt'\n",
        "fileRDD = sc.textFile(file1)"
      ],
      "execution_count": 3,
      "outputs": []
    },
    {
      "cell_type": "code",
      "metadata": {
        "id": "WNexccaxesbs",
        "colab_type": "code",
        "colab": {
          "base_uri": "https://localhost:8080/",
          "height": 187
        },
        "outputId": "4fb93578-5e17-4808-9956-b5b853743dcf"
      },
      "source": [
        "#This shows the first 10 of the input\n",
        "fileRDD.take(10)"
      ],
      "execution_count": 4,
      "outputs": [
        {
          "output_type": "execute_result",
          "data": {
            "text/plain": [
              "['FRO11987 ELE17451 ELE89019 SNA90258 GRO99222 ',\n",
              " 'GRO99222 GRO12298 FRO12685 ELE91550 SNA11465 ELE26917 ELE52966 FRO90334 SNA30755 ELE17451 FRO84225 SNA80192 ',\n",
              " 'ELE17451 GRO73461 DAI22896 SNA99873 FRO86643 ',\n",
              " 'ELE17451 ELE37798 FRO86643 GRO56989 ELE23393 SNA11465 ',\n",
              " 'ELE17451 SNA69641 FRO86643 FRO78087 SNA11465 GRO39357 ELE28573 ELE11375 DAI54444 ',\n",
              " 'ELE17451 GRO73461 DAI22896 SNA99873 FRO18919 DAI50921 SNA80192 GRO75578 ',\n",
              " 'ELE17451 ELE59935 FRO18919 ELE23393 SNA80192 SNA85662 SNA91554 DAI22177 ',\n",
              " 'ELE17451 SNA69641 FRO18919 SNA90258 ELE28573 ELE11375 DAI14125 FRO78087 ',\n",
              " 'ELE17451 GRO73461 DAI22896 SNA80192 SNA85662 SNA90258 DAI46755 FRO81176 ELE66810 DAI49199 DAI91535 GRO94758 ELE94711 DAI22177 ',\n",
              " 'ELE17451 SNA69641 DAI91535 GRO94758 GRO99222 FRO76833 FRO81176 SNA80192 DAI54690 ELE37798 GRO56989 ']"
            ]
          },
          "metadata": {
            "tags": []
          },
          "execution_count": 4
        }
      ]
    },
    {
      "cell_type": "code",
      "metadata": {
        "id": "CvESkTu-vHJP",
        "colab_type": "code",
        "colab": {}
      },
      "source": [
        "#This cell calculates the singletons and filters them based on the required support\n",
        "from operator import add\n",
        "minSupport = 85#I have given 2 as the support for my small dataset to just try.\n",
        "items = fileRDD.map(lambda line:line.split(\" \"))\n",
        "itemCount = items.flatMap(lambda x: x).map(lambda item:(item, 1)).reduceByKey(add)\n",
        "l1 = itemCount.filter(lambda a: a[1] > minSupport).filter(lambda a: a[0] != '')"
      ],
      "execution_count": 5,
      "outputs": []
    },
    {
      "cell_type": "code",
      "metadata": {
        "id": "W9UXq9-Nwq2S",
        "colab_type": "code",
        "colab": {
          "base_uri": "https://localhost:8080/",
          "height": 102
        },
        "outputId": "c59d1228-d3fc-461e-965a-f6c22eb60447"
      },
      "source": [
        "#This cell shows the top 5 singletons based on the support\n",
        "l1.sortBy(lambda a: a[1], ascending = False).take(5) "
      ],
      "execution_count": 6,
      "outputs": [
        {
          "output_type": "execute_result",
          "data": {
            "text/plain": [
              "[('ELE17451', 15),\n",
              " ('GRO99222', 7),\n",
              " ('SNA90258', 6),\n",
              " ('DAI22896', 6),\n",
              " ('FRO86643', 6)]"
            ]
          },
          "metadata": {
            "tags": []
          },
          "execution_count": 6
        }
      ]
    },
    {
      "cell_type": "code",
      "metadata": {
        "id": "ihLHK3UYHIhe",
        "colab_type": "code",
        "colab": {
          "base_uri": "https://localhost:8080/",
          "height": 34
        },
        "outputId": "bd827344-d714-47a4-839e-a26bc11dd83a"
      },
      "source": [
        "#This cell shows the count of singletons formed\n",
        "l1.count()"
      ],
      "execution_count": 7,
      "outputs": [
        {
          "output_type": "execute_result",
          "data": {
            "text/plain": [
              "20"
            ]
          },
          "metadata": {
            "tags": []
          },
          "execution_count": 7
        }
      ]
    },
    {
      "cell_type": "code",
      "metadata": {
        "id": "Wz4QZqxYGjZH",
        "colab_type": "code",
        "colab": {}
      },
      "source": [
        "#This cell gives the main definition of calculating the frequent itemsets. This method of the freq_itemsets is called in the below cell\n",
        "#you can just remove the comments to view the intermediate results from each step. \n",
        "def freq_itemsets(prev, frequent_items, s, k):\n",
        "  def cand_itemsets(x):\n",
        "    list1 = []\n",
        "    for c in frequent_items:\n",
        "      if set(c).issubset(set(x[0])) == False:\n",
        "        list1.append(x[0]+c)\n",
        "    return(list1)\n",
        "  prev1 = prev.flatMap(cand_itemsets).map(lambda x: (x,0))\n",
        "  #print(prev1.take(5))\n",
        "  #print(prev1.count())\n",
        "  prev2 = prev1.cartesian(items)\n",
        "  #print(prev2.take(5))\n",
        "  #print(prev2.count())\n",
        "  def frequency(y):\n",
        "    if set(y[0][0]).issubset(y[1]):\n",
        "    #  y[0][1] = 1\n",
        "      return((y[0][0],1))\n",
        "  prev3 = prev2.map(frequency).filter(lambda x: x is not None)\n",
        "  #print(prev3.take(5))\n",
        "  #print(prev3.count())\n",
        "  prev4 = prev3.map(lambda x: (tuple(x[0]), x[1])).reduceByKey(add).filter(lambda x: x[1] > s).map(lambda x: (list(x[0]),x[1]))#instead of frozenset 'tuple' can be used\n",
        "  #print(prev4.sortBy(lambda a: a[1],ascending=False).take(5))\n",
        "  #print(prev4.count())\n",
        "  return(prev4)"
      ],
      "execution_count": 8,
      "outputs": []
    },
    {
      "cell_type": "code",
      "metadata": {
        "id": "hJUVQn49Ih57",
        "colab_type": "code",
        "colab": {}
      },
      "source": [
        "#The l_f is obtained by slightly changing the singletons. The for loop logic is to calculate the frequent itemsets using the above defined method of freq_itemsets() and stores them into an frequent_items RDD\n",
        "#The range can be increased to increase the size of frequent itemset. If we want the itemsets till triples we need to put range(2,4), if we need till quadraples we need to put range(2,5) and so on.\n",
        "l_f = l1.map(lambda x: ([x[0]],x[1]))\n",
        "for k in range(2, 5):\n",
        "  if k==2:\n",
        "    frequent_items = freq_itemsets(l_f,l_f.map(lambda x: x[0]).collect(),minSupport, 2)\n",
        "  else:\n",
        "    frequent_items1 = frequent_items.filter(lambda x: len(x[0]) == k-1)\n",
        "    frequent_items = frequent_items.union(freq_itemsets(frequent_items1,l_f.map(lambda x: x[0]).collect(),minSupport, 2))"
      ],
      "execution_count": 16,
      "outputs": []
    },
    {
      "cell_type": "code",
      "metadata": {
        "id": "OUgfOMzRSbyg",
        "colab_type": "code",
        "colab": {}
      },
      "source": [
        "#This contains all the singletons, pairs, triplets, quadraples\n",
        "all_sets = l_f.union(frequent_items)"
      ],
      "execution_count": 17,
      "outputs": []
    },
    {
      "cell_type": "code",
      "metadata": {
        "id": "mWhsutpLWWx2",
        "colab_type": "code",
        "colab": {
          "base_uri": "https://localhost:8080/",
          "height": 34
        },
        "outputId": "2cb658c1-516d-451a-9fa7-4b7b893d1224"
      },
      "source": [
        "#This shows the count of all the singletons, pairs, triplets, quadraples\n",
        "all_sets.count()"
      ],
      "execution_count": 18,
      "outputs": [
        {
          "output_type": "execute_result",
          "data": {
            "text/plain": [
              "158"
            ]
          },
          "metadata": {
            "tags": []
          },
          "execution_count": 18
        }
      ]
    },
    {
      "cell_type": "code",
      "metadata": {
        "id": "xoWz-9Km0X7h",
        "colab_type": "code",
        "colab": {
          "base_uri": "https://localhost:8080/",
          "height": 187
        },
        "outputId": "6c0f6a7f-5740-41d5-d86a-b5042aa05366"
      },
      "source": [
        "#This shows the top 10 of all the singletons, pairs, triplets, quadraples\n",
        "all_sets.sortBy(lambda a: a[1], ascending = False).take(10) "
      ],
      "execution_count": 21,
      "outputs": [
        {
          "output_type": "execute_result",
          "data": {
            "text/plain": [
              "[(['ELE17451'], 15),\n",
              " (['GRO99222'], 7),\n",
              " (['SNA90258'], 6),\n",
              " (['DAI22896'], 6),\n",
              " (['FRO86643'], 6),\n",
              " (['FRO18919'], 6),\n",
              " (['ELE17451', 'GRO99222'], 6),\n",
              " (['GRO99222', 'ELE17451'], 6),\n",
              " (['SNA80192'], 5),\n",
              " (['GRO73461'], 5)]"
            ]
          },
          "metadata": {
            "tags": []
          },
          "execution_count": 21
        }
      ]
    },
    {
      "cell_type": "code",
      "metadata": {
        "id": "LIz_PTlmSrCJ",
        "colab_type": "code",
        "colab": {}
      },
      "source": [
        "#This cell eliminates any duplicates present in the all_sets RDD.\n",
        "all_set1 = all_sets.map(lambda x: (frozenset(x[0]), x[1])).reduceByKey(min).map(lambda x: (list(x[0]),x[1]))#.collect()"
      ],
      "execution_count": 22,
      "outputs": []
    },
    {
      "cell_type": "code",
      "metadata": {
        "id": "QcVTgRRG0RJQ",
        "colab_type": "code",
        "colab": {
          "base_uri": "https://localhost:8080/",
          "height": 34
        },
        "outputId": "d7ade646-8f33-433c-cd7e-bf52f751a8e5"
      },
      "source": [
        "all_set1.count()"
      ],
      "execution_count": 23,
      "outputs": [
        {
          "output_type": "execute_result",
          "data": {
            "text/plain": [
              "60"
            ]
          },
          "metadata": {
            "tags": []
          },
          "execution_count": 23
        }
      ]
    },
    {
      "cell_type": "code",
      "metadata": {
        "id": "0ebWtb0k0a-R",
        "colab_type": "code",
        "colab": {
          "base_uri": "https://localhost:8080/",
          "height": 187
        },
        "outputId": "ed3aceef-9f2b-4556-bad3-5b2339595aa6"
      },
      "source": [
        "all_set1.sortBy(lambda a: a[1], ascending = False).take(10) "
      ],
      "execution_count": 24,
      "outputs": [
        {
          "output_type": "execute_result",
          "data": {
            "text/plain": [
              "[(['ELE17451'], 15),\n",
              " (['GRO99222'], 7),\n",
              " (['DAI22896'], 6),\n",
              " (['GRO99222', 'ELE17451'], 6),\n",
              " (['SNA90258'], 6),\n",
              " (['FRO18919'], 6),\n",
              " (['FRO86643'], 6),\n",
              " (['DAI22896', 'ELE17451'], 5),\n",
              " (['FRO86643', 'ELE17451'], 5),\n",
              " (['DAI22896', 'GRO73461'], 5)]"
            ]
          },
          "metadata": {
            "tags": []
          },
          "execution_count": 24
        }
      ]
    },
    {
      "cell_type": "code",
      "metadata": {
        "id": "-dTyJ5p6yLUD",
        "colab_type": "code",
        "colab": {}
      },
      "source": [
        "#This cell creates the association rules with confidence greater than the 0.9 using the above all_sets1 RDD\n",
        "c= 0.9\n",
        "def confidence(x):\n",
        "    if set(x[0][0]).issubset(set(x[1][0])):\n",
        "      return(((x[0][0],list(set(x[1][0])-set(x[0][0]))),(x[1][1],x[1][1]/x[0][1])))\n",
        "for k in range(2, 4):\n",
        "  if k==2:\n",
        "    frequent_items1 = all_set1.filter(lambda x: len(x[0]) == k-1).cartesian(all_set1.filter(lambda x: len(x[0]) == k)).map(confidence).filter(lambda x: x is not None).filter(lambda x: x[1][1] > c)\n",
        "  else:\n",
        "    #frequent_items1 = frequent_items.filter(lambda x: len(x[0]) == k-1)\n",
        "    frequent_items1 = frequent_items1.union(all_set1.filter(lambda x: len(x[0]) == k-1).cartesian(all_set1.filter(lambda x: len(x[0]) == k)).map(confidence).filter(lambda x: x is not None).filter(lambda x: x[1][1] > c))"
      ],
      "execution_count": 25,
      "outputs": []
    },
    {
      "cell_type": "code",
      "metadata": {
        "id": "TiSpgzsjgjHI",
        "colab_type": "code",
        "colab": {}
      },
      "source": [
        "#This cell displays all the association rules in the format of ([LHS], [RHS]),(support, confidence) where the LHS is left hand side of association rule and RHS is right hand side of association rules.\n",
        "frequent_items1.sortBy(lambda a: a[1][1], ascending = False).collect()"
      ],
      "execution_count": null,
      "outputs": []
    },
    {
      "cell_type": "code",
      "metadata": {
        "id": "3Jn9qA3GyNRD",
        "colab_type": "code",
        "colab": {
          "base_uri": "https://localhost:8080/",
          "height": 646
        },
        "outputId": "e3743d55-6d0c-429d-b74f-ae103310456c"
      },
      "source": [
        "#This cell is finally used to print the results as given in the assignment.\n",
        "def printing_rules(x):\n",
        "  return((str(x[0][0]) + '-->' + str(x[0][1]) + '; Confidence = '+str(x[1][1])))\n",
        "frequent_items1.sortBy(lambda a: a[1][1], ascending = False).map(printing_rules).collect()"
      ],
      "execution_count": 28,
      "outputs": [
        {
          "output_type": "execute_result",
          "data": {
            "text/plain": [
              "[\"['ELE26917']-->['GRO99222']; Confidence = 1.0\",\n",
              " \"['GRO39357']-->['ELE17451']; Confidence = 1.0\",\n",
              " \"['GRO39357']-->['FRO78087']; Confidence = 1.0\",\n",
              " \"['ELE28573']-->['FRO78087']; Confidence = 1.0\",\n",
              " \"['ELE28573']-->['ELE11375']; Confidence = 1.0\",\n",
              " \"['GRO73461']-->['DAI22896']; Confidence = 1.0\",\n",
              " \"['SNA69641']-->['ELE17451']; Confidence = 1.0\",\n",
              " \"['SNA99873']-->['GRO73461']; Confidence = 1.0\",\n",
              " \"['SNA99873']-->['DAI22896']; Confidence = 1.0\",\n",
              " \"['GRO56989']-->['ELE37798']; Confidence = 1.0\",\n",
              " \"['GRO73461']-->['ELE17451']; Confidence = 1.0\",\n",
              " \"['SNA99873']-->['ELE17451']; Confidence = 1.0\",\n",
              " \"['GRO56989']-->['ELE17451']; Confidence = 1.0\",\n",
              " \"['ELE37798']-->['ELE17451']; Confidence = 1.0\",\n",
              " \"['SNA11465']-->['ELE17451']; Confidence = 1.0\",\n",
              " \"['ELE37798']-->['GRO56989']; Confidence = 1.0\",\n",
              " \"['SNA80192']-->['ELE17451']; Confidence = 1.0\",\n",
              " \"['ELE11375']-->['FRO78087']; Confidence = 1.0\",\n",
              " \"['ELE11375']-->['ELE28573']; Confidence = 1.0\",\n",
              " \"['DAI22896', 'ELE17451']-->['GRO73461']; Confidence = 1.0\",\n",
              " \"['DAI22896', 'GRO73461']-->['ELE17451']; Confidence = 1.0\",\n",
              " \"['ELE37798', 'ELE17451']-->['GRO56989']; Confidence = 1.0\",\n",
              " \"['SNA99873', 'GRO73461']-->['DAI22896']; Confidence = 1.0\",\n",
              " \"['SNA99873', 'GRO73461']-->['ELE17451']; Confidence = 1.0\",\n",
              " \"['GRO39357', 'ELE17451']-->['FRO78087']; Confidence = 1.0\",\n",
              " \"['DAI22896', 'SNA99873']-->['GRO73461']; Confidence = 1.0\",\n",
              " \"['ELE37798', 'GRO56989']-->['ELE17451']; Confidence = 1.0\",\n",
              " \"['ELE28573', 'FRO78087']-->['ELE11375']; Confidence = 1.0\",\n",
              " \"['DAI22896', 'SNA99873']-->['ELE17451']; Confidence = 1.0\",\n",
              " \"['GRO73461', 'ELE17451']-->['DAI22896']; Confidence = 1.0\",\n",
              " \"['ELE17451', 'ELE26917']-->['GRO99222']; Confidence = 1.0\",\n",
              " \"['SNA99873', 'ELE17451']-->['GRO73461']; Confidence = 1.0\",\n",
              " \"['GRO56989', 'ELE17451']-->['ELE37798']; Confidence = 1.0\",\n",
              " \"['ELE11375', 'FRO78087']-->['ELE28573']; Confidence = 1.0\",\n",
              " \"['ELE11375', 'ELE28573']-->['FRO78087']; Confidence = 1.0\",\n",
              " \"['SNA99873', 'ELE17451']-->['DAI22896']; Confidence = 1.0\",\n",
              " \"['FRO78087', 'GRO39357']-->['ELE17451']; Confidence = 1.0\"]"
            ]
          },
          "metadata": {
            "tags": []
          },
          "execution_count": 28
        }
      ]
    },
    {
      "cell_type": "markdown",
      "metadata": {
        "id": "mVfKDHtOfFnx",
        "colab_type": "text"
      },
      "source": [
        "I have tried my best to not collect anything except the singletons till the last. If you couldn't run it on the large dataset, please input some small dataset. This algorithm runs perfect \n",
        " \n",
        "Thank you"
      ]
    },
    {
      "cell_type": "code",
      "metadata": {
        "id": "X8Df1rExyNW1",
        "colab_type": "code",
        "colab": {}
      },
      "source": [
        ""
      ],
      "execution_count": null,
      "outputs": []
    }
  ]
}